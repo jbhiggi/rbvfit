{
 "cells": [
  {
   "cell_type": "markdown",
   "metadata": {},
   "source": [
    "# This is an examples of how to use the rb_vfit program\n",
    "\n",
    "\n",
    "## Written By: Rongmon Bordoloi\n",
    "Feb 22, 2019\n",
    "Tested on Python 3.7\n"
   ]
  },
  {
   "cell_type": "code",
   "execution_count": 3,
   "metadata": {},
   "outputs": [
    {
     "data": {
      "text/plain": [
       "<module 'rbvfit.rb_vfit' from '/Users/bordoloi/WORK/python/rbvfit/src/rbvfit/rb_vfit.py'>"
      ]
     },
     "execution_count": 3,
     "metadata": {},
     "output_type": "execute_result"
    }
   ],
   "source": [
    "import matplotlib.pyplot as plt\n",
    "%matplotlib inline\n",
    "import numpy as np\n",
    "from importlib import reload\n",
    "\n",
    "from rbvfit import rb_vfit as r\n",
    "reload(r)"
   ]
  },
  {
   "cell_type": "markdown",
   "metadata": {},
   "source": [
    "# Example USE\n",
    "\n",
    "The following code snippets show how to call and use the rb_vfit object to create a Voigt profile \n",
    "\n",
    "## Initiate a line object"
   ]
  },
  {
   "cell_type": "code",
   "execution_count": 21,
   "metadata": {},
   "outputs": [],
   "source": [
    "line = r.model()"
   ]
  },
  {
   "cell_type": "markdown",
   "metadata": {},
   "source": [
    "## Set up the species, and redshift and several clumps"
   ]
  },
  {
   "cell_type": "code",
   "execution_count": 22,
   "metadata": {},
   "outputs": [],
   "source": [
    "lambda_rest=1215.67\n",
    "zabs=0\n",
    "line.addline(lambda_rest, z=zabs)\n",
    "line.addline(lambda_rest, z=zabs)\n"
   ]
  },
  {
   "cell_type": "markdown",
   "metadata": {},
   "source": [
    "## Set up a wavelength grid \n",
    "Using 0.01 Angstrom/ pixel similar to COS spectra"
   ]
  },
  {
   "cell_type": "code",
   "execution_count": 23,
   "metadata": {},
   "outputs": [],
   "source": [
    "wave=np.arange(1208.,1220.,0.01)"
   ]
  },
  {
   "cell_type": "markdown",
   "metadata": {},
   "source": [
    "## Set up the model by defining N, b, and v"
   ]
  },
  {
   "cell_type": "code",
   "execution_count": 24,
   "metadata": {},
   "outputs": [],
   "source": [
    "\n",
    "N=np.array([14.,13.])\n",
    "b=np.array([20.,21.])\n",
    "v=np.array([10.,-50.])\n",
    "theta=np.concatenate((N,b,v))\n"
   ]
  },
  {
   "cell_type": "markdown",
   "metadata": {},
   "source": [
    "## Now create Voigt Profile"
   ]
  },
  {
   "cell_type": "code",
   "execution_count": 25,
   "metadata": {},
   "outputs": [],
   "source": [
    "flx, components = r.model_profile(theta, wave, line)"
   ]
  },
  {
   "cell_type": "markdown",
   "metadata": {},
   "source": [
    "## Plot the generated Absorption Profile"
   ]
  },
  {
   "cell_type": "code",
   "execution_count": 26,
   "metadata": {},
   "outputs": [
    {
     "data": {
      "text/plain": [
       "[<matplotlib.lines.Line2D at 0x7fa8f1bdf8d0>]"
      ]
     },
     "execution_count": 26,
     "metadata": {},
     "output_type": "execute_result"
    },
    {
     "data": {
      "image/png": "[encoded data removed]",
      "text/plain": [
       "<Figure size 432x288 with 1 Axes>"
      ]
     },
     "metadata": {
      "needs_background": "light"
     },
     "output_type": "display_data"
    }
   ],
   "source": [
    "plt.step(wave,flx)"
   ]
  },
  {
   "cell_type": "markdown",
   "metadata": {},
   "source": [
    "#---------------------------------------------------------\n",
    "\n",
    "# The next example is a wrapper to do everything in one go\n",
    "\n",
    "# For end users: USE THE FOLLOWING"
   ]
  },
  {
   "cell_type": "code",
   "execution_count": 4,
   "metadata": {},
   "outputs": [
    {
     "data": {
      "text/plain": [
       "<module 'rbvfit.model' from '/Users/bordoloi/WORK/python/rbvfit/src/rbvfit/model.py'>"
      ]
     },
     "execution_count": 4,
     "metadata": {},
     "output_type": "execute_result"
    }
   ],
   "source": [
    "from rbvfit import model as m\n",
    "reload(m)"
   ]
  },
  {
   "cell_type": "markdown",
   "metadata": {},
   "source": [
    "# First initialize the model you want to use\n",
    "e.g. set up the redshifts and instrument settings and transition wavelengths first"
   ]
  },
  {
   "cell_type": "code",
   "execution_count": 23,
   "metadata": {},
   "outputs": [],
   "source": [
    "wave=np.arange(1545.2,1553.,0.01)\n",
    "# We are setting up 3 clumps at z = 0\n",
    "#  For Lya absorption\n",
    "# . With default 6.5 pixel FWHM of HST/COS and Gaussian convolution\n",
    "zabs=np.array([0.,])\n",
    "lambda_rest = [1548.3,1550.5]# * np.ones((len(zabs),))\n",
    "\n",
    "nclump=3\n",
    "ntransition=2\n",
    "\n",
    "s=m.create_voigt(zabs,lambda_rest,nclump,ntransition=ntransition,FWHM=3.5)"
   ]
  },
  {
   "cell_type": "markdown",
   "metadata": {},
   "source": [
    "# Now we are all set to use the object to create voigt profiles for different settings"
   ]
  },
  {
   "cell_type": "code",
   "execution_count": 37,
   "metadata": {},
   "outputs": [],
   "source": [
    "N=np.array([14.,13., 14.])\n",
    "b=np.array([20.,21.,29.])\n",
    "v=np.array([10.,-100.,-200.])\n",
    "theta=np.concatenate((N,b,v))\n",
    "\n",
    "\n",
    "outflux= s.model_flux(theta,wave)\n"
   ]
  },
  {
   "cell_type": "code",
   "execution_count": 38,
   "metadata": {},
   "outputs": [
    {
     "data": {
      "text/plain": [
       "[<matplotlib.lines.Line2D at 0x7f95f0506400>]"
      ]
     },
     "execution_count": 38,
     "metadata": {},
     "output_type": "execute_result"
    },
    {
     "data": {
      "image/png": "[encoded data removed]",
      "text/plain": [
       "<Figure size 432x288 with 1 Axes>"
      ]
     },
     "metadata": {
      "needs_background": "light"
     },
     "output_type": "display_data"
    }
   ],
   "source": [
    "plt.step(wave,outflux)"
   ]
  },
  {
   "cell_type": "markdown",
   "metadata": {},
   "source": [
    "# Print out which lines are being created in the fit \n",
    "Including nuissance parameters if given"
   ]
  },
  {
   "cell_type": "code",
   "execution_count": 36,
   "metadata": {},
   "outputs": [
    {
     "name": "stdout",
     "output_type": "stream",
     "text": [
      "CIV 1548\n",
      "CIV 1548\n",
      "CIV 1548\n",
      "CIV 1550\n",
      "CIV 1550\n",
      "CIV 1550\n"
     ]
    }
   ],
   "source": [
    "for i in range(0,len(s.line.lines)):\n",
    "    print(s.line.lines[i].name)"
   ]
  },
  {
   "cell_type": "code",
   "execution_count": null,
   "metadata": {},
   "outputs": [],
   "source": []
  }
 ],
 "metadata": {
  "kernelspec": {
   "display_name": "Python 3",
   "language": "python",
   "name": "python3"
  },
  "language_info": {
   "codemirror_mode": {
    "name": "ipython",
    "version": 3
   },
   "file_extension": ".py",
   "mimetype": "text/x-python",
   "name": "python",
   "nbconvert_exporter": "python",
   "pygments_lexer": "ipython3",
   "version": "3.7.3"
  }
 },
 "nbformat": 4,
 "nbformat_minor": 2
}
