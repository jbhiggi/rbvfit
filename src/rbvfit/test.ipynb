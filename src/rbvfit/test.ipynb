{
 "cells": [
  {
   "cell_type": "markdown",
   "metadata": {},
   "source": [
    "# This is an examples of how to use the rb_vfit program\n",
    "\n",
    "\n",
    "## Written By: Rongmon Bordoloi\n",
    "Feb 22, 2019\n",
    "Tested on Python 3.7\n"
   ]
  },
  {
   "cell_type": "code",
   "execution_count": null,
   "metadata": {},
   "outputs": [],
   "source": [
    "import matplotlib.pyplot as plt\n",
    "%matplotlib inline\n",
    "import numpy as np\n",
    "from importlib import reload\n",
    "\n",
    "from rbvfit import rb_vfit as r\n",
    "reload(r)"
   ]
  },
  {
   "cell_type": "markdown",
   "metadata": {},
   "source": [
    "# Example USE\n",
    "\n",
    "The following code snippets show how to call and use the rb_vfit object to create a Voigt profile \n",
    "\n",
    "## Initiate a line object"
   ]
  },
  {
   "cell_type": "code",
   "execution_count": null,
   "metadata": {},
   "outputs": [],
   "source": [
    "line = r.model()"
   ]
  },
  {
   "cell_type": "markdown",
   "metadata": {},
   "source": [
    "## Set up the species, and redshift and several clumps"
   ]
  },
  {
   "cell_type": "code",
   "execution_count": null,
   "metadata": {},
   "outputs": [],
   "source": [
    "lambda_rest=1215.67\n",
    "zabs=0\n",
    "line.addline(lambda_rest, z=zabs)\n",
    "line.addline(lambda_rest, z=zabs)\n"
   ]
  },
  {
   "cell_type": "markdown",
   "metadata": {},
   "source": [
    "## Set up a wavelength grid \n",
    "Using 0.01 Angstrom/ pixel similar to COS spectra"
   ]
  },
  {
   "cell_type": "code",
   "execution_count": null,
   "metadata": {},
   "outputs": [],
   "source": [
    "wave=np.arange(1208.,1220.,0.01)"
   ]
  },
  {
   "cell_type": "markdown",
   "metadata": {},
   "source": [
    "## Set up the model by defining N, b, and v"
   ]
  },
  {
   "cell_type": "code",
   "execution_count": null,
   "metadata": {},
   "outputs": [],
   "source": [
    "\n",
    "N=np.array([14.,13.])\n",
    "b=np.array([20.,21.])\n",
    "v=np.array([10.,-50.])\n",
    "theta=np.concatenate((N,b,v))\n"
   ]
  },
  {
   "cell_type": "markdown",
   "metadata": {},
   "source": [
    "## Now create Voigt Profile"
   ]
  },
  {
   "cell_type": "code",
   "execution_count": null,
   "metadata": {},
   "outputs": [],
   "source": [
    "flx, components = r.model_profile(theta, wave, line)"
   ]
  },
  {
   "cell_type": "markdown",
   "metadata": {},
   "source": [
    "## Plot the generated Absorption Profile"
   ]
  },
  {
   "cell_type": "code",
   "execution_count": null,
   "metadata": {},
   "outputs": [],
   "source": [
    "plt.step(wave,flx)"
   ]
  },
  {
   "cell_type": "markdown",
   "metadata": {},
   "source": [
    "#---------------------------------------------------------\n",
    "\n",
    "# The next example is a wrapper to do everything in one go\n",
    "\n",
    "# For end users: USE THE FOLLOWING"
   ]
  },
  {
   "cell_type": "code",
   "execution_count": null,
   "metadata": {},
   "outputs": [],
   "source": [
    "from rbvfit import model as m\n",
    "reload(m)"
   ]
  },
  {
   "cell_type": "markdown",
   "metadata": {},
   "source": [
    "# First initialize the model you want to use\n",
    "e.g. set up the redshifts and instrument settings and transition wavelengths first"
   ]
  },
  {
   "cell_type": "code",
   "execution_count": null,
   "metadata": {},
   "outputs": [],
   "source": [
    "wave=np.arange(1208.,1220.,0.01)\n",
    "# We are setting up 3 clumps at z = 0\n",
    "#  For Lya absorption\n",
    "# . With default 6.5 pixel FWHM of HST/COS and Gaussian convolution\n",
    "zabs=np.array([0.])\n",
    "lambda_rest = [1215.67]# * np.ones((len(zabs),))\n",
    "\n",
    "nclump=3\n",
    "ntransition=1\n",
    "\n",
    "s=m.create_voigt(zabs,lambda_rest,nclump)"
   ]
  },
  {
   "cell_type": "markdown",
   "metadata": {},
   "source": [
    "# Now we are all set to use the object to create voigt profiles for different settings"
   ]
  },
  {
   "cell_type": "code",
   "execution_count": null,
   "metadata": {},
   "outputs": [],
   "source": [
    "N=np.array([14.,13., 16.])\n",
    "b=np.array([20.,21.,29.])\n",
    "v=np.array([10.,-100.,-200.])\n",
    "theta=np.concatenate((N,b,v))\n",
    "\n",
    "\n",
    "outflux= s.model_flux(theta,wave)\n"
   ]
  },
  {
   "cell_type": "code",
   "execution_count": null,
   "metadata": {},
   "outputs": [],
   "source": [
    "plt.step(wave,outflux)"
   ]
  },
  {
   "cell_type": "code",
   "execution_count": null,
   "metadata": {},
   "outputs": [],
   "source": [
    "zlist=np.array([0.3,1.3,1.2])"
   ]
  },
  {
   "cell_type": "code",
   "execution_count": null,
   "metadata": {},
   "outputs": [],
   "source": [
    "zlist=np.append(np.repeat(z[0],3),zlist[1:])\n"
   ]
  },
  {
   "cell_type": "code",
   "execution_count": null,
   "metadata": {},
   "outputs": [],
   "source": [
    "zlist"
   ]
  },
  {
   "cell_type": "code",
   "execution_count": null,
   "metadata": {},
   "outputs": [],
   "source": [
    "lam_rest=np.array([2796.3,2803.5,1215.67])\n",
    "ncl=3\n",
    "nt=2"
   ]
  },
  {
   "cell_type": "code",
   "execution_count": null,
   "metadata": {},
   "outputs": [],
   "source": [
    "lam_restlist=[]\n",
    "for i in range(0,nt):\n",
    "    lam_restlist=np.append(lam_restlist,np.repeat(lam_rest[i],ncl))\n",
    "lam_restlist=np.append(lam_restlist,lam_rest[nt:])"
   ]
  },
  {
   "cell_type": "code",
   "execution_count": null,
   "metadata": {},
   "outputs": [],
   "source": [
    "lam_restlist\n"
   ]
  },
  {
   "cell_type": "code",
   "execution_count": 17,
   "metadata": {},
   "outputs": [
    {
     "data": {
      "text/plain": [
       "<module 'rbvfit.rb_vfit' from '/Users/bordoloi/WORK/python/rbvfit/src/rbvfit/rb_vfit.py'>"
      ]
     },
     "execution_count": 17,
     "metadata": {},
     "output_type": "execute_result"
    }
   ],
   "source": [
    "import matplotlib.pyplot as plt\n",
    "%matplotlib inline\n",
    "import numpy as np\n",
    "from importlib import reload\n",
    "import ipdb\n",
    "from rbvfit import rb_vfit as r\n",
    "from rbvfit import rb_setline as rt\n",
    "reload(r)"
   ]
  },
  {
   "cell_type": "code",
   "execution_count": 56,
   "metadata": {},
   "outputs": [],
   "source": [
    "\n",
    "\n",
    "\n",
    "def set_one_absorber(N,b,lam_rest):\n",
    "    zabs=0\n",
    "    line = r.model()\n",
    "    N=np.array(N)\n",
    "    b=np.array(b)\n",
    "    v=np.array([0.])\n",
    "    \n",
    "    line.addline(lam_rest, z=zabs)\n",
    "    wave=np.arange(lam_rest-10.,lam_rest+10.,0.05)\n",
    "    #ipdb.set_trace()\n",
    "    theta=np.array([N,b,v])#np.concatenate((N,b,v))\n",
    "    flx, components = r.model_profile(theta, wave, line)\n",
    "    W=np.trapz(1.-flx,x=wave)\n",
    "    return W\n",
    "\n",
    "def compute_COG(Nlist,b,lam_rest):\n",
    "    Wlist=np.zeros(len(Nlist),)\n",
    "    for i in range(0,len(Nlist)):\n",
    "        Wlist[i]=set_one_absorber(Nlist[i],b,lam_rest)\n",
    "    return Wlist\n",
    "        "
   ]
  },
  {
   "cell_type": "code",
   "execution_count": 43,
   "metadata": {},
   "outputs": [],
   "source": [
    "lambda_rest=2282.3\n",
    "Nlist=np.arange(11.5,20.,.1)\n",
    "b1= 15.\n",
    "st=rt.rb_setline(lambda_rest,'closest')\n",
    "Wlist=compute_COG(Nlist,b1,st['wave'])\n",
    "b2=25.\n",
    "Wlist1=compute_COG(Nlist,b2,st['wave'])\n",
    "b3=45.\n",
    "Wlist2=compute_COG(Nlist,b3,st['wave'])\n",
    "\n"
   ]
  },
  {
   "cell_type": "code",
   "execution_count": 44,
   "metadata": {},
   "outputs": [
    {
     "data": {
      "text/plain": [
       "<matplotlib.legend.Legend at 0x7f881097cc90>"
      ]
     },
     "execution_count": 44,
     "metadata": {},
     "output_type": "execute_result"
    },
    {
     "data": {
      "image/png": "[encoded data removed]",
      "text/plain": [
       "<Figure size 432x288 with 1 Axes>"
      ]
     },
     "metadata": {
      "needs_background": "light"
     },
     "output_type": "display_data"
    }
   ],
   "source": [
    "\n",
    "#Convert Angstrom to cm\n",
    "plt.title(st['name'])\n",
    "plt.plot(np.log10((10**Nlist)*st['fval']*st['wave']*1e-8),np.log10(Wlist/st['wave']),label='b = '+ np.str(b1))\n",
    "plt.plot(np.log10((10**Nlist)*st['fval']*st['wave']*1e-8),np.log10(Wlist1/st['wave']),label='b = '+ np.str(b2))\n",
    "plt.plot(np.log10((10**Nlist)*st['fval']*st['wave']*1e-8),np.log10(Wlist2/st['wave']),label='b = '+ np.str(b3))\n",
    "plt.xlabel(r'$log_{10} [N f \\lambda]$')\n",
    "plt.ylabel(r'$log_{10} [W/ \\lambda]$')\n",
    "\n",
    "plt.legend()"
   ]
  },
  {
   "cell_type": "code",
   "execution_count": 30,
   "metadata": {},
   "outputs": [
    {
     "data": {
      "text/plain": [
       "{'wave': 2586.65, 'fval': 0.0684, 'name': 'FeII 2586', 'gamma': 272000000.0}"
      ]
     },
     "execution_count": 30,
     "metadata": {},
     "output_type": "execute_result"
    }
   ],
   "source": [
    "st"
   ]
  },
  {
   "cell_type": "code",
   "execution_count": 1,
   "metadata": {},
   "outputs": [],
   "source": [
    "from rbvfit import compute_cog as c\n",
    "import numpy as np\n",
    "%matplotlib inline"
   ]
  },
  {
   "cell_type": "code",
   "execution_count": 2,
   "metadata": {},
   "outputs": [
    {
     "name": "stdout",
     "output_type": "stream",
     "text": [
      "2586.65\n",
      "2586.65\n",
      "2586.65\n",
      "2586.65\n"
     ]
    }
   ],
   "source": [
    "Nlist=np.arange(11.5,20.,.1)\n",
    "blist=np.array([15.,20.,30.,50.])\n",
    "s=c.compute_cog(2586.65,Nlist,blist)"
   ]
  },
  {
   "cell_type": "code",
   "execution_count": 3,
   "metadata": {},
   "outputs": [
    {
     "data": {
      "image/png": "[encoded data removed]",
      "text/plain": [
       "<Figure size 432x288 with 1 Axes>"
      ]
     },
     "metadata": {
      "needs_background": "light"
     },
     "output_type": "display_data"
    }
   ],
   "source": [
    "s.plot_cog()"
   ]
  },
  {
   "cell_type": "code",
   "execution_count": 60,
   "metadata": {},
   "outputs": [
    {
     "data": {
      "text/plain": [
       "array([85,  4])"
      ]
     },
     "execution_count": 60,
     "metadata": {},
     "output_type": "execute_result"
    }
   ],
   "source": [
    "tt"
   ]
  },
  {
   "cell_type": "code",
   "execution_count": 84,
   "metadata": {},
   "outputs": [],
   "source": [
    "tt[:,0]=Wlist"
   ]
  },
  {
   "cell_type": "code",
   "execution_count": 72,
   "metadata": {},
   "outputs": [
    {
     "data": {
      "text/plain": [
       "(85,)"
      ]
     },
     "execution_count": 72,
     "metadata": {},
     "output_type": "execute_result"
    }
   ],
   "source": [
    "np.shape(Wlist)"
   ]
  },
  {
   "cell_type": "code",
   "execution_count": 82,
   "metadata": {},
   "outputs": [
    {
     "data": {
      "text/plain": [
       "(85, 4)"
      ]
     },
     "execution_count": 82,
     "metadata": {},
     "output_type": "execute_result"
    }
   ],
   "source": [
    "np.shape(tt)"
   ]
  },
  {
   "cell_type": "code",
   "execution_count": 80,
   "metadata": {},
   "outputs": [
    {
     "ename": "IndexError",
     "evalue": "index 2 is out of bounds for axis 0 with size 2",
     "output_type": "error",
     "traceback": [
      "\u001b[0;31m---------------------------------------------------------------------------\u001b[0m",
      "\u001b[0;31mIndexError\u001b[0m                                Traceback (most recent call last)",
      "\u001b[0;32m<ipython-input-80-db43f4a8b1d8>\u001b[0m in \u001b[0;36m<module>\u001b[0;34m\u001b[0m\n\u001b[0;32m----> 1\u001b[0;31m \u001b[0mtt\u001b[0m\u001b[0;34m[\u001b[0m\u001b[0;36m2\u001b[0m\u001b[0;34m]\u001b[0m\u001b[0;34m\u001b[0m\u001b[0;34m\u001b[0m\u001b[0m\n\u001b[0m",
      "\u001b[0;31mIndexError\u001b[0m: index 2 is out of bounds for axis 0 with size 2"
     ]
    }
   ],
   "source": [
    "tt[2]"
   ]
  },
  {
   "cell_type": "code",
   "execution_count": null,
   "metadata": {},
   "outputs": [],
   "source": []
  }
 ],
 "metadata": {
  "kernelspec": {
   "display_name": "Python 3",
   "language": "python",
   "name": "python3"
  },
  "language_info": {
   "codemirror_mode": {
    "name": "ipython",
    "version": 3
   },
   "file_extension": ".py",
   "mimetype": "text/x-python",
   "name": "python",
   "nbconvert_exporter": "python",
   "pygments_lexer": "ipython3",
   "version": "3.7.9"
  }
 },
 "nbformat": 4,
 "nbformat_minor": 2
}
